{
 "cells": [
  {
   "cell_type": "markdown",
   "metadata": {},
   "source": [
    "# Name: Srivathsan B                 &                                    Student ID: E22034    "
   ]
  },
  {
   "cell_type": "markdown",
   "metadata": {},
   "source": [
    "## 1. Prompt the user for a score between 0.0 and 1.0. If the score is out of range, print an error message. If the score is between 0.0 and 1.0, print a grade using the following table:"
   ]
  },
  {
   "cell_type": "code",
   "execution_count": 9,
   "metadata": {},
   "outputs": [
    {
     "name": "stdout",
     "output_type": "stream",
     "text": [
      "Enter the Score between 0.0 and 1.0: 05\n",
      "\n",
      "\n",
      "Error : The Entered Value is out of Range\n"
     ]
    }
   ],
   "source": [
    "Score = float(input(\"Enter the Score between 0.0 and 1.0: \"))\n",
    "\n",
    "if Score >= 0.0 and  Score >= 1.0:\n",
    "    print(\"\\n\")\n",
    "    print(\"Error : The Entered Value is out of Range\")\n",
    "\n",
    "elif Score >= 0.9:\n",
    "    print(\"\\n\")\n",
    "    print(\"A\")\n",
    "elif Score >= 0.8:\n",
    "    print(\"\\n\")\n",
    "    print(\"B\")\n",
    "elif Score >= 0.7:\n",
    "    print(\"\\n\")\n",
    "    print(\"C\")\n",
    "elif Score >= 0.6:\n",
    "    print(\"\\n\")\n",
    "    print(\"D\")\n",
    "elif Score < 0.6:\n",
    "    print(\"\\n\")\n",
    "    print(\"E\")"
   ]
  },
  {
   "cell_type": "markdown",
   "metadata": {},
   "source": [
    "## 2. If cost price and selling price of an item is input through the keyboard, write a program to determine whether the seller has made profit or incurred loss. Also determine how much profit he made or loss he incurred."
   ]
  },
  {
   "cell_type": "code",
   "execution_count": null,
   "metadata": {},
   "outputs": [],
   "source": [
    "Costprice = float(input(\"Enter the Cost price of an item : \"))\n",
    "Sellingprice = float(input(\"Enter the Selling price of an item : \"))\n",
    "\n",
    "p = Sellingprice - Costprice # This is my profit\n",
    "\n",
    "if p >= 1:\n",
    "    print(\"The Seller made a profit and the profit is \", p)\n",
    "elif p <= 1:\n",
    "    print(\"The Seller incurred a loss and the loss incurred is \", p)"
   ]
  },
  {
   "cell_type": "markdown",
   "metadata": {},
   "source": [
    "## 3. Any year is input through the keyboard. Write a program to determine whether the year is a leap year or not."
   ]
  },
  {
   "cell_type": "code",
   "execution_count": null,
   "metadata": {},
   "outputs": [],
   "source": [
    "Year = int(input(\"Enter the Year : \"))\n",
    "if (Year%4) == 0:\n",
    "    print(\"The Entered Year is a Leap year\")\n",
    "else:  \n",
    "    print(\"The Entered Year is NOT a Leap year\")"
   ]
  },
  {
   "cell_type": "markdown",
   "metadata": {},
   "source": [
    "## 4. A five-digit number is entered through the keyboard. Write a program to obtain the reversed number and to determine whether the original and reversed numbers are equal or not."
   ]
  },
  {
   "cell_type": "code",
   "execution_count": null,
   "metadata": {},
   "outputs": [],
   "source": [
    "x = float(input(\"Enter the five digit number : \"))\n",
    "a = int(x%10)\n",
    "b = int(x%100/10)\n",
    "c = int(x%1000/100)\n",
    "d = int(x%10000/1000)\n",
    "e = int(x%100000/10000)\n",
    "s = (a*10000 + b*1000 + c*100 + d*10 + e)\n",
    "\n",
    "if x%s == 0:\n",
    "    print(\"The original and reversed numbers are equal.\")\n",
    "else:\n",
    "    print(\"The original and reversed numbers are not equal\")"
   ]
  },
  {
   "cell_type": "markdown",
   "metadata": {},
   "source": [
    "## 5.If the ages of Ram, Shyam and Ajay are input through the keyboard, write a program to determine the youngest of the three."
   ]
  },
  {
   "cell_type": "code",
   "execution_count": null,
   "metadata": {},
   "outputs": [],
   "source": [
    "Ram = int(input(\"Enter the age of Ram : \"))\n",
    "Shyam = int(input(\"Enter the age of Shyam : \"))\n",
    "Ajay = int(input(\"Enter the age of Ajay : \"))\n",
    "\n",
    "if (Ram > Shyam) and (Ajay > Shyam):\n",
    "    print(\"The Youngest is Shyam\")\n",
    "elif (Shyam > Ram) and (Ajay > Ram):\n",
    "    print(\"The Youngest is Ram\")\n",
    "elif (Ram > Ajay) and (Shyam > Ajay):\n",
    "    print(\"The Youngest is Ajay\")\n",
    "    "
   ]
  },
  {
   "cell_type": "markdown",
   "metadata": {},
   "source": [
    "## 6.Write a program to check whether a triangle is valid or not, when the three angles of the triangle are entered through the keyboard. A triangle is valid if the sum of all the three angles is equal to 180 degrees."
   ]
  },
  {
   "cell_type": "code",
   "execution_count": null,
   "metadata": {},
   "outputs": [],
   "source": [
    "A = float(input(\"Enter Angle 1 : \"))\n",
    "B = float(input(\"Enter Angle 2 : \"))\n",
    "C = float(input(\"Enter Angle 3 : \"))\n",
    "\n",
    "D = (A + B + C)\n",
    "if (D == 180):\n",
    "    print(\"The Triangle is Valid\")\n",
    "else:\n",
    "    print(\"The Triangle is Invalid\")"
   ]
  },
  {
   "cell_type": "markdown",
   "metadata": {},
   "source": [
    "## 7. Find the absolute value of a number entered through the keyboard"
   ]
  },
  {
   "cell_type": "code",
   "execution_count": null,
   "metadata": {},
   "outputs": [],
   "source": [
    "X = float(input(\"Enter the Number : \"))\n",
    "if X == (-X):\n",
    "    num == ((-X)*(-1))\n",
    "    print(\"The Absolute Value of number is : \", num)\n",
    "else:\n",
    "    print(\"The Absolute Value of number is : \", X)\n"
   ]
  },
  {
   "cell_type": "code",
   "execution_count": null,
   "metadata": {},
   "outputs": [],
   "source": [
    "X = float(input(\"Enter the Number : \"))\n",
    "if (X<0):\n",
    "    num = (-1)*X\n",
    "    print(\"The Absolute Value of number |X| is : \", num)\n",
    "else:\n",
    "    print(\"The Absolute Value of number |X| is : \", X)"
   ]
  },
  {
   "cell_type": "markdown",
   "metadata": {},
   "source": [
    "## 8. Given three points (x1, y1), (x2, y2) and (x3, y3), write a program to check if all the three points fall on one straight line."
   ]
  },
  {
   "cell_type": "code",
   "execution_count": null,
   "metadata": {},
   "outputs": [],
   "source": [
    "x1 = float(input(\"Enter the Value of x1 : \"))\n",
    "x2 = float(input(\"Enter the Value of x2 : \"))\n",
    "x3 = float(input(\"Enter the Value of x3 : \"))\n",
    "y1 = float(input(\"Enter the Value of y1 : \"))\n",
    "y2 = float(input(\"Enter the Value of y2 : \"))\n",
    "y3 = float(input(\"Enter the Value of y3 : \"))\n",
    "\n",
    "AB = ((x2-x1)**2 + (y2-y1)**2)**(1/2)\n",
    "BC = ((x3-x2)**2 + (y3-y2)**2)**(1/2)\n",
    "AC = ((x3-x1)**2 + (y3-y1)**2)**(1/2)\n",
    "\n",
    "AB = AC + BC\n",
    "AC = AB + BC\n",
    "BC = AB + AC\n",
    "\n",
    "if AB == BC == AC:\n",
    "    print(\"All the three points fall on one straight line.\")\n",
    "else:\n",
    "    print(\"All the three points do not fall on one straight line.\")\n",
    "    \n",
    "    # try with x1=3,x2=-1,x3=1 and y1 =1, y2=0, y3=1 \n"
   ]
  },
  {
   "cell_type": "markdown",
   "metadata": {},
   "source": [
    "## 9. Given a point (x, y), write a program to find out if it lies on the x-axis, y-axis or at the origin, viz. (0, 0)."
   ]
  },
  {
   "cell_type": "code",
   "execution_count": null,
   "metadata": {},
   "outputs": [],
   "source": [
    "x = float(input(\"Enter the x coordinate: \"))\n",
    "y = float(input(\"Enter the y coordinate: \"))\n",
    "\n",
    "if x == 0 and y == 0:\n",
    "    print(\"The point (x,y) lies at the origin.\")\n",
    "elif x != 0 and y == 0:\n",
    "    print(\"The point (x,y) lies on the x-axis.\")\n",
    "elif x == 0 and y != 0:\n",
    "    print(\"The point (x,y) lies on the y-axis.\")"
   ]
  },
  {
   "cell_type": "markdown",
   "metadata": {},
   "source": [
    "## 10. Write a program, which will require the user to give values of hardness, carbon content and tensile strength of the steel under consideration and output the grade of the steel."
   ]
  },
  {
   "cell_type": "code",
   "execution_count": null,
   "metadata": {},
   "outputs": [],
   "source": [
    "hardness = float(input(\" Enter the hardness value : \"))\n",
    "carbon = float(input(\"Enter the Carbon content value : \"))\n",
    "tensile = float(input(\"Enter the tensile strength value : \"))\n",
    "\n",
    "A = hardness < 50\n",
    "B = carbon > 0.7 \n",
    "C = tensile < 5600\n",
    "\n",
    "if A == B == C:\n",
    "    print(\"The Steel Grade is : 10 \")\n",
    "elif A and B :\n",
    "    print(\"The Steel Grade is : 9 \")\n",
    "elif B and C:\n",
    "    print(\"The Steel Grade is : 8 \")\n",
    "elif A and C :\n",
    "    print(\"The Steel Grade is : 7 \")\n",
    "elif A or B or C:\n",
    "    print(\"The Steel Grade is : 6 \")\n",
    "elif A != B != C :\n",
    "    print(\"The Steel Grade is : 5 \")\n"
   ]
  },
  {
   "cell_type": "markdown",
   "metadata": {},
   "source": [
    "## 11. A library charges a fine for every book returned late. For first 5 days the fine is 50 paise,for 6-10 days fine is one rupee and above 10 days fine is 5 rupees. If you return thebook after 30 days your membership will be cancelled. Write a program to accept thenumber of days the member is late to return the book and display the fine or the appropriate message."
   ]
  },
  {
   "cell_type": "code",
   "execution_count": null,
   "metadata": {},
   "outputs": [],
   "source": [
    "Days = int(input(\" Enter the Number of Days : \"))\n",
    "\n",
    "if(Days > 0 and  Days <= 5):\n",
    "        fine = 0.50 * Days\n",
    "        print(\"The fine for returning the book for first 5 days is : \", fine)\n",
    "elif(Days >= 6 and  Days <= 10):\n",
    "        fine = 1 * Days\n",
    "        print(\"The fine for returning the book for 6 - 10  days is : \", fine)\n",
    "elif(Days > 10):\n",
    "        fine = 5 * Days\n",
    "        print(\"The fine for returning the book for above 10  days is : \", fine)\n",
    "elif(Days > 30):\n",
    "            print(\"Membership is cancelled as the no of days exceeded 30, Please Renew the Membership \")"
   ]
  },
  {
   "cell_type": "markdown",
   "metadata": {},
   "source": [
    "## 12. In a company, worker efficiency is determined on the basis of the time required for a worker to complete a particular job. If the time taken by the worker is between 2 – 3 hours, then the worker is said to be highly efficient. If the time required by the worker is between 3 – 4 hours, then the worker is ordered to improve speed. If the time taken is between 4 – 5 hours, the worker is given training to improve his speed, and if the time taken by the worker is more than 5 hours, then the worker has to leave the company. If the time taken by the worker is input through the keyboard, find the efficiency of the worker."
   ]
  },
  {
   "cell_type": "code",
   "execution_count": 4,
   "metadata": {},
   "outputs": [
    {
     "name": "stdout",
     "output_type": "stream",
     "text": [
      "Enter the time taken by the Worker : 5\n",
      "Qorker is Give training to improve his/her speed \n"
     ]
    }
   ],
   "source": [
    "Timetaken = float(input(\"Enter the time taken by the Worker : \"))\n",
    "\n",
    "if(Timetaken >= 2 and Timetaken <=3 ):\n",
    "        print(\"Worker is highly efficient\")\n",
    "elif(Timetaken > 3 and  Timetaken <=4 ):\n",
    "        print(\"Worker is ordered to improve speed\")\n",
    "elif(Timetaken >4 and Timetaken <= 5):\n",
    "        print(\"Qorker is Give training to improve his/her speed \")\n",
    "elif(Timetaken > 5):\n",
    "        print(\"Worker has to leave the company\")"
   ]
  },
  {
   "cell_type": "markdown",
   "metadata": {},
   "source": [
    "## 13. A university has the following rules for a student to qualify for a degree with A as the main subject and B as the subsidiary subject:\n",
    "## a. He should get 55 percent or more in A and 45 percent or more in B. b. If he gets than 55 percent in A he should get 55 percent or more in B. However, he should get at least 45 percent in A. c. If he gets less than 45 percent in B and 65 percent or more in A he is allowed to reappear in an examination in B to qualify. d. In all other cases he is declared to have failed. Write a program to receive marks in A and B and Output whether the student has passed, failed or is allowed to reappear in B."
   ]
  },
  {
   "cell_type": "code",
   "execution_count": 13,
   "metadata": {},
   "outputs": [
    {
     "name": "stdout",
     "output_type": "stream",
     "text": [
      "Enter the Percentage marks of A : 55\n",
      "Enter the percentage marks of B : 45\n",
      "The Student is Qualified\n"
     ]
    }
   ],
   "source": [
    "A = float(input(\"Enter the Percentage marks of A : \"))\n",
    "B = float(input(\"Enter the percentage marks of B : \"))\n",
    "\n",
    "if (A>= 55 and B >= 45):\n",
    "    print(\"The Student is Qualified\")\n",
    "elif (A >= 45 and A < 55 and B >= 55):\n",
    "    print(\"The Student is Qualified\")\n",
    "elif (B < 45 and A >= 65):\n",
    "    print(\"The Student is allowed to reappear in an examination in B to Qualify\")\n",
    "elif():\n",
    "    print(\"The Student is Declared as FAILED\")\n"
   ]
  },
  {
   "cell_type": "code",
   "execution_count": null,
   "metadata": {},
   "outputs": [],
   "source": []
  }
 ],
 "metadata": {
  "kernelspec": {
   "display_name": "Python 3",
   "language": "python",
   "name": "python3"
  },
  "language_info": {
   "codemirror_mode": {
    "name": "ipython",
    "version": 3
   },
   "file_extension": ".py",
   "mimetype": "text/x-python",
   "name": "python",
   "nbconvert_exporter": "python",
   "pygments_lexer": "ipython3",
   "version": "3.7.6"
  }
 },
 "nbformat": 4,
 "nbformat_minor": 4
}
